{
  "nbformat": 4,
  "nbformat_minor": 0,
  "metadata": {
    "colab": {
      "provenance": []
    },
    "kernelspec": {
      "name": "python3",
      "display_name": "Python 3"
    },
    "language_info": {
      "name": "python"
    }
  },
  "cells": [
    {
      "cell_type": "markdown",
      "source": [
        "#Task-01\n"
      ],
      "metadata": {
        "id": "UiXjVV-coKNu"
      }
    },
    {
      "cell_type": "code",
      "source": [
        "import pandas as pd\n",
        "\n",
        "# Load the dataset\n",
        "file_path = '/content/gender_submission.csv'\n",
        "df = pd.read_csv(file_path)"
      ],
      "metadata": {
        "id": "_qY61mC5mwrh"
      },
      "execution_count": null,
      "outputs": []
    },
    {
      "cell_type": "code",
      "source": [
        "# Check for missing values\n",
        "missing_values = df.isnull().sum()\n",
        "print(\"Missing values:\\n\", missing_values)"
      ],
      "metadata": {
        "colab": {
          "base_uri": "https://localhost:8080/"
        },
        "id": "nLNM5nD2l9da",
        "outputId": "8792cb95-765a-45cd-9a48-e510cc21b68e"
      },
      "execution_count": null,
      "outputs": [
        {
          "output_type": "stream",
          "name": "stdout",
          "text": [
            "Missing values:\n",
            " PassengerId    0\n",
            "Survived       0\n",
            "dtype: int64\n"
          ]
        }
      ]
    },
    {
      "cell_type": "code",
      "source": [
        "# Identify unique values in the Survived column to check for outliers\n",
        "unique_values = df['Survived'].unique()\n",
        "print(\"Unique values in 'Survived' column:\", unique_values)"
      ],
      "metadata": {
        "colab": {
          "base_uri": "https://localhost:8080/"
        },
        "id": "r-MzudKWl_fl",
        "outputId": "ea9e1cfc-6fb4-4354-99a8-e61a6aaa5d44"
      },
      "execution_count": null,
      "outputs": [
        {
          "output_type": "stream",
          "name": "stdout",
          "text": [
            "Unique values in 'Survived' column: [0 1]\n"
          ]
        }
      ]
    },
    {
      "cell_type": "code",
      "source": [
        "# Since there are no missing values and no outliers, proceed to save the cleaned dataset\n",
        "cleaned_file_path = '/content/cleaned_gender_submission.csv'\n",
        "df.to_csv(cleaned_file_path, index=False)\n",
        "\n",
        "print(f\"Cleaned dataset saved to: {cleaned_file_path}\")"
      ],
      "metadata": {
        "colab": {
          "base_uri": "https://localhost:8080/"
        },
        "id": "1WcE_DRXmHEc",
        "outputId": "d4fd376b-02ef-43a0-f84d-a6116095c73d"
      },
      "execution_count": null,
      "outputs": [
        {
          "output_type": "stream",
          "name": "stdout",
          "text": [
            "Cleaned dataset saved to: /content/cleaned_gender_submission.csv\n"
          ]
        }
      ]
    },
    {
      "cell_type": "markdown",
      "source": [
        "#Task-02"
      ],
      "metadata": {
        "id": "Lb7RfSWqoRqA"
      }
    },
    {
      "cell_type": "code",
      "source": [
        "import pandas as pd\n",
        "from scipy import stats"
      ],
      "metadata": {
        "id": "25Kd2ScKm9hb"
      },
      "execution_count": null,
      "outputs": []
    },
    {
      "cell_type": "code",
      "source": [
        "# Load the dataset\n",
        "file_path = '/content/gender_submission.csv'\n",
        "df = pd.read_csv(file_path)"
      ],
      "metadata": {
        "id": "VKfNWa8knsgK"
      },
      "execution_count": null,
      "outputs": []
    },
    {
      "cell_type": "code",
      "source": [
        "# Calculate summary statistics for the 'Survived' column\n",
        "mean_value = df['Survived'].mean()\n",
        "median_value = df['Survived'].median()\n",
        "mode_value = df['Survived'].mode()[0]\n",
        "std_dev_value = df['Survived'].std()\n"
      ],
      "metadata": {
        "id": "9xiBbW9tnyB2"
      },
      "execution_count": null,
      "outputs": []
    },
    {
      "cell_type": "code",
      "source": [
        "print(\"Mean:\", mean_value)\n",
        "print(\"Median:\", median_value)\n",
        "print(\"Mode:\", mode_value)\n",
        "print(\"Standard Deviation:\", std_dev_value)"
      ],
      "metadata": {
        "colab": {
          "base_uri": "https://localhost:8080/"
        },
        "id": "7f9hp7Gun3ef",
        "outputId": "ab3f90d1-a766-4165-f8dd-9225269eb650"
      },
      "execution_count": null,
      "outputs": [
        {
          "output_type": "stream",
          "name": "stdout",
          "text": [
            "Mean: 0.36363636363636365\n",
            "Median: 0.0\n",
            "Mode: 0\n",
            "Standard Deviation: 0.4816221409322309\n"
          ]
        }
      ]
    },
    {
      "cell_type": "markdown",
      "source": [
        "#Task-03\n"
      ],
      "metadata": {
        "id": "mDj3NY9Ln855"
      }
    },
    {
      "cell_type": "code",
      "source": [
        "import pandas as pd\n",
        "import matplotlib.pyplot as plt"
      ],
      "metadata": {
        "id": "vOQveTmEpJwA"
      },
      "execution_count": null,
      "outputs": []
    },
    {
      "cell_type": "code",
      "source": [
        "# Load the dataset\n",
        "file_path = '/content/Iris (3).csv'\n",
        "df = pd.read_csv(file_path)"
      ],
      "metadata": {
        "id": "3DNutUApoidr"
      },
      "execution_count": null,
      "outputs": []
    },
    {
      "cell_type": "code",
      "source": [
        "# Display the first few rows of the dataframe\n",
        "print(df.head())"
      ],
      "metadata": {
        "colab": {
          "base_uri": "https://localhost:8080/"
        },
        "id": "18GNqFbRo7A7",
        "outputId": "765d556e-7f84-4e05-a385-d3698513489b"
      },
      "execution_count": null,
      "outputs": [
        {
          "output_type": "stream",
          "name": "stdout",
          "text": [
            "   Id  SepalLengthCm  SepalWidthCm  PetalLengthCm  PetalWidthCm      Species\n",
            "0   1            5.1           3.5            1.4           0.2  Iris-setosa\n",
            "1   2            4.9           3.0            1.4           0.2  Iris-setosa\n",
            "2   3            4.7           3.2            1.3           0.2  Iris-setosa\n",
            "3   4            4.6           3.1            1.5           0.2  Iris-setosa\n",
            "4   5            5.0           3.6            1.4           0.2  Iris-setosa\n"
          ]
        }
      ]
    },
    {
      "cell_type": "code",
      "source": [
        "# Create a histogram for one of the numerical columns, for example, 'SepalLengthCm'\n",
        "plt.figure(figsize=(8, 6))\n",
        "plt.hist(df['SepalLengthCm'], bins=20, edgecolor='k', alpha=0.7)\n",
        "plt.title('Histogram of Sepal Length')\n",
        "plt.xlabel('Sepal Length (cm)')\n",
        "plt.ylabel('Frequency')\n",
        "plt.show()\n"
      ],
      "metadata": {
        "colab": {
          "base_uri": "https://localhost:8080/",
          "height": 564
        },
        "id": "ZyyLliBpo9Xy",
        "outputId": "340b9184-4728-48c2-f31a-7ef957568541"
      },
      "execution_count": null,
      "outputs": [
        {
          "output_type": "display_data",
          "data": {
            "text/plain": [
              "<Figure size 800x600 with 1 Axes>"
            ],
            "image/png": "[encoded data removed]"
          },
          "metadata": {}
        }
      ]
    },
    {
      "cell_type": "code",
      "source": [
        "# Create a bar chart for the count of each species in the dataset\n",
        "species_counts = df['Species'].value_counts()\n",
        "\n",
        "plt.figure(figsize=(8, 6))\n",
        "species_counts.plot(kind='bar', color=['blue', 'green', 'orange'])\n",
        "plt.title('Bar Chart of Species Count')\n",
        "plt.xlabel('Species')\n",
        "plt.ylabel('Count')\n",
        "plt.xticks(rotation=0)\n",
        "plt.show()"
      ],
      "metadata": {
        "colab": {
          "base_uri": "https://localhost:8080/",
          "height": 564
        },
        "id": "AM8dOpuXpTQ6",
        "outputId": "5ce2ddf8-27c1-423a-aa0a-9562b0f83417"
      },
      "execution_count": null,
      "outputs": [
        {
          "output_type": "display_data",
          "data": {
            "text/plain": [
              "<Figure size 800x600 with 1 Axes>"
            ],
            "image/png": "[encoded data removed]"
          },
          "metadata": {}
        }
      ]
    },
    {
      "cell_type": "markdown",
      "source": [
        "#Task-04"
      ],
      "metadata": {
        "id": "8EdHJx4rpeQR"
      }
    },
    {
      "cell_type": "code",
      "source": [
        "import pandas as pd\n",
        "\n",
        "# Load the dataset\n",
        "file_path = '/content/sample_submission.csv'\n",
        "df = pd.read_csv(file_path)"
      ],
      "metadata": {
        "id": "PJETDj5VpxKc"
      },
      "execution_count": null,
      "outputs": []
    },
    {
      "cell_type": "code",
      "source": [
        "# Display the first few rows of the dataframe\n",
        "print(df.head())"
      ],
      "metadata": {
        "colab": {
          "base_uri": "https://localhost:8080/"
        },
        "id": "g7hAXT0dp5Fx",
        "outputId": "5ee341e7-d401-44d7-e51d-fd30a98c8f9a"
      },
      "execution_count": null,
      "outputs": [
        {
          "output_type": "stream",
          "name": "stdout",
          "text": [
            "     Id      SalePrice\n",
            "0  1461  169277.052498\n",
            "1  1462  187758.393989\n",
            "2  1463  183583.683570\n",
            "3  1464  179317.477511\n",
            "4  1465  150730.079977\n"
          ]
        }
      ]
    },
    {
      "cell_type": "code",
      "source": [
        "\n",
        "# Display the column names to identify available fields\n",
        "print(df.columns)\n"
      ],
      "metadata": {
        "colab": {
          "base_uri": "https://localhost:8080/"
        },
        "id": "13Mm3rVvp7W_",
        "outputId": "ff5d3883-d222-4a7f-db6c-3b31e452ef69"
      },
      "execution_count": null,
      "outputs": [
        {
          "output_type": "stream",
          "name": "stdout",
          "text": [
            "Index(['Id', 'SalePrice'], dtype='object')\n"
          ]
        }
      ]
    },
    {
      "cell_type": "code",
      "source": [
        "# Pivot table to summarize the average values per a specific column, e.g., 'A'\n",
        "pivot_table_avg = pd.pivot_table(df, values='SalePrice', index='Id', aggfunc='mean')\n",
        "print(\"Pivot Table - Average Sale Price per Id:\")\n",
        "print(pivot_table_avg)"
      ],
      "metadata": {
        "colab": {
          "base_uri": "https://localhost:8080/"
        },
        "id": "0USb57JlnX1n",
        "outputId": "76e475e8-ebb8-4160-a0e4-daf4221ff044"
      },
      "execution_count": null,
      "outputs": [
        {
          "output_type": "stream",
          "name": "stdout",
          "text": [
            "Pivot Table - Average Sale Price per Id:\n",
            "          SalePrice\n",
            "Id                 \n",
            "1461  169277.052498\n",
            "1462  187758.393989\n",
            "1463  183583.683570\n",
            "1464  179317.477511\n",
            "1465  150730.079977\n",
            "...             ...\n",
            "2915  167081.220949\n",
            "2916  164788.778231\n",
            "2917  219222.423400\n",
            "2918  184924.279659\n",
            "2919  187741.866657\n",
            "\n",
            "[1459 rows x 1 columns]\n"
          ]
        }
      ]
    },
    {
      "cell_type": "code",
      "source": [
        "# Pivot table to summarize the total values per another specific column, e.g., 'B'\n",
        "pivot_table_total = pd.pivot_table(df, values='SalePrice', index='Id', aggfunc='sum')\n",
        "print(\"Pivot Table - Total Sale Price per Id:\")\n",
        "print(pivot_table_total)"
      ],
      "metadata": {
        "colab": {
          "base_uri": "https://localhost:8080/"
        },
        "id": "UTpnocsrnrRA",
        "outputId": "d44989f4-1d63-4620-ec6a-61ca706e75c0"
      },
      "execution_count": null,
      "outputs": [
        {
          "output_type": "stream",
          "name": "stdout",
          "text": [
            "Pivot Table - Total Sale Price per Id:\n",
            "          SalePrice\n",
            "Id                 \n",
            "1461  169277.052498\n",
            "1462  187758.393989\n",
            "1463  183583.683570\n",
            "1464  179317.477511\n",
            "1465  150730.079977\n",
            "...             ...\n",
            "2915  167081.220949\n",
            "2916  164788.778231\n",
            "2917  219222.423400\n",
            "2918  184924.279659\n",
            "2919  187741.866657\n",
            "\n",
            "[1459 rows x 1 columns]\n"
          ]
        }
      ]
    },
    {
      "cell_type": "markdown",
      "source": [
        "#Task-05"
      ],
      "metadata": {
        "id": "sAzoLCCpn12R"
      }
    },
    {
      "cell_type": "code",
      "source": [
        "import pandas as pd\n",
        "\n",
        "# Load the dataset\n",
        "file_path = '/content/Iris (3).csv'\n",
        "df = pd.read_csv(file_path)"
      ],
      "metadata": {
        "id": "ij6KQWgUp9aD"
      },
      "execution_count": null,
      "outputs": []
    },
    {
      "cell_type": "code",
      "source": [
        "# Display the first few rows of the dataframe to understand its structure\n",
        "print(\"First few rows of the dataset:\")\n",
        "print(df.head())"
      ],
      "metadata": {
        "colab": {
          "base_uri": "https://localhost:8080/"
        },
        "id": "o22XIPkMqa_a",
        "outputId": "05a7ada0-1897-4e48-9561-4e1566ae3704"
      },
      "execution_count": null,
      "outputs": [
        {
          "output_type": "stream",
          "name": "stdout",
          "text": [
            "First few rows of the dataset:\n",
            "   Id  SepalLengthCm  SepalWidthCm  PetalLengthCm  PetalWidthCm      Species\n",
            "0   1            5.1           3.5            1.4           0.2  Iris-setosa\n",
            "1   2            4.9           3.0            1.4           0.2  Iris-setosa\n",
            "2   3            4.7           3.2            1.3           0.2  Iris-setosa\n",
            "3   4            4.6           3.1            1.5           0.2  Iris-setosa\n",
            "4   5            5.0           3.6            1.4           0.2  Iris-setosa\n"
          ]
        }
      ]
    },
    {
      "cell_type": "code",
      "source": [
        "# Check for duplicate values\n",
        "duplicate_rows = df[df.duplicated()]\n",
        "duplicate_count = duplicate_rows.shape[0]\n",
        "print(f\"Number of duplicate rows: {duplicate_count}\")"
      ],
      "metadata": {
        "colab": {
          "base_uri": "https://localhost:8080/"
        },
        "id": "7SQyKOoxqdKl",
        "outputId": "11fdb404-6554-48ee-ea4c-adfed6f41aa8"
      },
      "execution_count": null,
      "outputs": [
        {
          "output_type": "stream",
          "name": "stdout",
          "text": [
            "Number of duplicate rows: 0\n"
          ]
        }
      ]
    },
    {
      "cell_type": "code",
      "source": [
        "# Display duplicate rows (if any)\n",
        "if duplicate_count > 0:\n",
        "    print(\"Duplicate rows:\")\n",
        "    print(duplicate_rows)"
      ],
      "metadata": {
        "id": "paNVACJLqfYN"
      },
      "execution_count": null,
      "outputs": []
    },
    {
      "cell_type": "code",
      "source": [
        "# Remove duplicate values\n",
        "df_cleaned = df.drop_duplicates()"
      ],
      "metadata": {
        "id": "7P4k4uLPqhnT"
      },
      "execution_count": null,
      "outputs": []
    },
    {
      "cell_type": "code",
      "source": [],
      "metadata": {
        "id": "NOPGIbmrplW0"
      },
      "execution_count": null,
      "outputs": []
    }
  ]
}